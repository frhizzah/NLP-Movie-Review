{
 "cells": [
  {
   "cell_type": "code",
   "execution_count": 2,
   "metadata": {},
   "outputs": [],
   "source": [
    "# Imports and Dependencies\n",
    "import torch\n",
    "import torch.nn as nn\n",
    "from transformers import BertTokenizer, BertModel\n",
    "from sklearn.model_selection import train_test_split\n",
    "from sklearn.metrics import accuracy_score, f1_score, classification_report\n",
    "from torch.utils.data import Dataset, DataLoader\n",
    "import matplotlib.pyplot as plt\n",
    "import seaborn as sns\n",
    "import pandas as pd"
   ]
  },
  {
   "cell_type": "code",
   "execution_count": 3,
   "metadata": {},
   "outputs": [],
   "source": [
    "# Data Loading\n",
    "def load_imdb_data():\n",
    "    from datasets import load_dataset\n",
    "    dataset = load_dataset(\"imdb\")\n",
    "    return dataset['train']['text'], dataset['train']['label'], dataset['test']['text'], dataset['test']['label']"
   ]
  },
  {
   "cell_type": "code",
   "execution_count": 4,
   "metadata": {},
   "outputs": [],
   "source": [
    "# Load the dataset\n",
    "train_texts, train_labels, test_texts, test_labels = load_imdb_data()"
   ]
  },
  {
   "cell_type": "code",
   "execution_count": 5,
   "metadata": {},
   "outputs": [],
   "source": [
    "# Dataframe Setup\n",
    "train_data = pd.DataFrame({'text': train_texts, 'label': train_labels})\n",
    "test_data = pd.DataFrame({'text': test_texts, 'label': test_labels})"
   ]
  },
  {
   "cell_type": "markdown",
   "metadata": {},
   "source": [
    "DATA EXPLORATION"
   ]
  },
  {
   "cell_type": "code",
   "execution_count": 6,
   "metadata": {},
   "outputs": [
    {
     "name": "stdout",
     "output_type": "stream",
     "text": [
      "Null values:\n",
      " text     0\n",
      "label    0\n",
      "dtype: int64\n",
      "Duplicate values: 96\n"
     ]
    },
    {
     "name": "stderr",
     "output_type": "stream",
     "text": [
      "C:\\Users\\husna ezzah\\AppData\\Local\\Temp\\ipykernel_17660\\2972752763.py:5: FutureWarning: \n",
      "\n",
      "Passing `palette` without assigning `hue` is deprecated and will be removed in v0.14.0. Assign the `x` variable to `hue` and set `legend=False` for the same effect.\n",
      "\n",
      "  sns.countplot(x='label', data=data, palette='flare')\n"
     ]
    },
    {
     "data": {
      "image/png": "[encoded data removed]",
      "text/plain": [
       "<Figure size 640x480 with 1 Axes>"
      ]
     },
     "metadata": {},
     "output_type": "display_data"
    }
   ],
   "source": [
    "# Data Visualization\n",
    "def visualize_data(data):\n",
    "    print(\"Null values:\\n\", data.isnull().sum())\n",
    "    print(\"Duplicate values:\", data.duplicated().sum())\n",
    "    sns.countplot(x='label', data=data, palette='flare')\n",
    "    plt.title('Class Distribution')\n",
    "    plt.show()\n",
    "\n",
    "visualize_data(train_data)"
   ]
  },
  {
   "cell_type": "markdown",
   "metadata": {},
   "source": [
    "MODEL EVALUATION"
   ]
  },
  {
   "cell_type": "code",
   "execution_count": 7,
   "metadata": {},
   "outputs": [],
   "source": [
    "# Custom Dataset Class\n",
    "class CustomDataset(Dataset):\n",
    "    def __init__(self, texts, labels, tokenizer=None, max_len=128, is_lstm=False):\n",
    "        self.texts = texts\n",
    "        self.labels = labels\n",
    "        self.tokenizer = tokenizer\n",
    "        self.max_len = max_len\n",
    "        self.is_lstm = is_lstm\n",
    "\n",
    "    def __len__(self):\n",
    "        return len(self.texts)\n",
    "\n",
    "    def __getitem__(self, idx):\n",
    "        text = self.texts[idx]\n",
    "        label = self.labels[idx]\n",
    "        \n",
    "        if self.is_lstm:\n",
    "            # For LSTM: Convert text to token IDs (simple tokenizer)\n",
    "            input_ids = [ord(c) % 255 for c in text][:self.max_len]  # Simple char-based tokenizer\n",
    "            padding = [0] * (self.max_len - len(input_ids))\n",
    "            input_ids += padding\n",
    "            return {\n",
    "                'input_ids': torch.tensor(input_ids, dtype=torch.long),\n",
    "                'labels': torch.tensor(label, dtype=torch.long)\n",
    "            }\n",
    "        else:\n",
    "            # For BERT-based models: Use Hugging Face tokenizer\n",
    "            encoding = self.tokenizer.encode_plus(\n",
    "                text,\n",
    "                max_length=self.max_len,\n",
    "                add_special_tokens=True,\n",
    "                padding='max_length',\n",
    "                truncation=True,\n",
    "                return_tensors='pt'\n",
    "            )\n",
    "            return {\n",
    "                'input_ids': encoding['input_ids'].flatten(),\n",
    "                'attention_mask': encoding['attention_mask'].flatten(),\n",
    "                'labels': torch.tensor(label, dtype=torch.long)\n",
    "            }\n"
   ]
  },
  {
   "cell_type": "code",
   "execution_count": 8,
   "metadata": {},
   "outputs": [],
   "source": [
    "# Model Definitions\n",
    "class LSTMClassifier(nn.Module):\n",
    "    def __init__(self, hidden_size, num_classes):\n",
    "        super().__init__()\n",
    "        self.embedding = nn.Embedding(256, 128)  # Embedding for ASCII range\n",
    "        self.lstm = nn.LSTM(128, hidden_size, batch_first=True)\n",
    "        self.fc = nn.Linear(hidden_size, num_classes)\n",
    "\n",
    "    def forward(self, input_ids):\n",
    "        embedded = self.embedding(input_ids)\n",
    "        _, (hidden, _) = self.lstm(embedded)\n",
    "        return self.fc(hidden[-1])\n",
    "\n",
    "class BERTClassifier(nn.Module):\n",
    "    def __init__(self, num_classes):\n",
    "        super().__init__()\n",
    "        self.bert = BertModel.from_pretrained('bert-base-uncased')\n",
    "        self.fc = nn.Linear(self.bert.config.hidden_size, num_classes)\n",
    "\n",
    "    def forward(self, input_ids, attention_mask):\n",
    "        outputs = self.bert(input_ids=input_ids, attention_mask=attention_mask)\n",
    "        return self.fc(outputs.pooler_output)\n",
    "\n",
    "class BERTLSTMClassifier(nn.Module):\n",
    "    def __init__(self, bert_model, hidden_size, num_classes):\n",
    "        super().__init__()\n",
    "        self.bert = bert_model\n",
    "        self.lstm = nn.LSTM(768, hidden_size, batch_first=True)\n",
    "        self.fc = nn.Linear(hidden_size, num_classes)\n",
    "\n",
    "    def forward(self, input_ids, attention_mask):\n",
    "        bert_output = self.bert(input_ids=input_ids, attention_mask=attention_mask).last_hidden_state\n",
    "        _, (hidden, _) = self.lstm(bert_output)\n",
    "        return self.fc(hidden[-1])"
   ]
  },
  {
   "cell_type": "code",
   "execution_count": 9,
   "metadata": {},
   "outputs": [],
   "source": [
    "# Training and Evaluation\n",
    "def train_and_evaluate(model, train_loader, test_loader, optimizer, loss_fn, device, epochs=2):\n",
    "    for epoch in range(epochs):\n",
    "        model.train()\n",
    "        for batch in train_loader:\n",
    "            input_ids = batch['input_ids'].to(device)\n",
    "            labels = batch['labels'].to(device)\n",
    "            attention_mask = batch.get('attention_mask', None)\n",
    "            if attention_mask is not None:\n",
    "                attention_mask = attention_mask.to(device)\n",
    "\n",
    "            optimizer.zero_grad()\n",
    "            outputs = model(input_ids, attention_mask) if attention_mask is not None else model(input_ids)\n",
    "            loss = loss_fn(outputs, labels)\n",
    "            loss.backward()\n",
    "            optimizer.step()\n",
    "\n",
    "    model.eval()\n",
    "    predictions, true_labels = [], []\n",
    "    with torch.no_grad():\n",
    "        for batch in test_loader:\n",
    "            input_ids = batch['input_ids'].to(device)\n",
    "            labels = batch['labels'].to(device)\n",
    "            attention_mask = batch.get('attention_mask', None)\n",
    "            if attention_mask is not None:\n",
    "                attention_mask = attention_mask.to(device)\n",
    "\n",
    "            outputs = model(input_ids, attention_mask) if attention_mask is not None else model(input_ids)\n",
    "            _, preds = torch.max(outputs, dim=1)\n",
    "            predictions.extend(preds.cpu().numpy())\n",
    "            true_labels.extend(labels.cpu().numpy())\n",
    "\n",
    "    accuracy = accuracy_score(true_labels, predictions)\n",
    "    f1 = f1_score(true_labels, predictions, average='weighted')\n",
    "    cls_report = classification_report(true_labels, predictions, target_names=['Negative', 'Positive'], output_dict=True)\n",
    "    return accuracy, f1, cls_report"
   ]
  },
  {
   "cell_type": "code",
   "execution_count": 10,
   "metadata": {},
   "outputs": [],
   "source": [
    "# Data Preparation\n",
    "max_len = 128\n",
    "batch_size = 16\n",
    "device = torch.device('cuda' if torch.cuda.is_available() else 'cpu')"
   ]
  },
  {
   "cell_type": "code",
   "execution_count": 11,
   "metadata": {},
   "outputs": [],
   "source": [
    "# Tokenizer for BERT\n",
    "bert_tokenizer = BertTokenizer.from_pretrained('bert-base-uncased')"
   ]
  },
  {
   "cell_type": "code",
   "execution_count": 12,
   "metadata": {},
   "outputs": [],
   "source": [
    "# Create Datasets and DataLoaders\n",
    "train_dataset_lstm = CustomDataset(train_data['text'], train_data['label'], is_lstm=True, max_len=max_len)\n",
    "test_dataset_lstm = CustomDataset(test_data['text'], test_data['label'], is_lstm=True, max_len=max_len)\n",
    "train_dataset_bert = CustomDataset(train_data['text'], train_data['label'], tokenizer=bert_tokenizer, max_len=max_len)\n",
    "test_dataset_bert = CustomDataset(test_data['text'], test_data['label'], tokenizer=bert_tokenizer, max_len=max_len)\n",
    "\n",
    "train_loader_lstm = DataLoader(train_dataset_lstm, batch_size=batch_size, shuffle=True)\n",
    "test_loader_lstm = DataLoader(test_dataset_lstm, batch_size=batch_size)\n",
    "train_loader_bert = DataLoader(train_dataset_bert, batch_size=batch_size, shuffle=True)\n",
    "test_loader_bert = DataLoader(test_dataset_bert, batch_size=batch_size)"
   ]
  },
  {
   "cell_type": "code",
   "execution_count": 13,
   "metadata": {},
   "outputs": [],
   "source": [
    "# Initialize Models\n",
    "hidden_size = 128\n",
    "num_classes = 2\n",
    "lstm_model = LSTMClassifier(hidden_size, num_classes).to(device)\n",
    "bert_model = BERTClassifier(num_classes).to(device)\n",
    "bert_lstm_model = BERTLSTMClassifier(bert_model.bert, hidden_size, num_classes).to(device)"
   ]
  },
  {
   "cell_type": "code",
   "execution_count": 14,
   "metadata": {},
   "outputs": [],
   "source": [
    "# Optimizers\n",
    "learning_rate = 2e-5\n",
    "lstm_optimizer = torch.optim.AdamW(lstm_model.parameters(), lr=learning_rate)\n",
    "bert_optimizer = torch.optim.AdamW(bert_model.parameters(), lr=learning_rate)\n",
    "bert_lstm_optimizer = torch.optim.AdamW(bert_lstm_model.parameters(), lr=learning_rate)"
   ]
  },
  {
   "cell_type": "code",
   "execution_count": 21,
   "metadata": {},
   "outputs": [
    {
     "name": "stdout",
     "output_type": "stream",
     "text": [
      "Training LSTM...\n",
      "Training BERT...\n",
      "Training LSTM-BERT...\n",
      "\n",
      "Classification Report for LSTM:\n",
      "              precision   recall  f1-score      support\n",
      "Negative       0.511433  0.50280  0.507080  12500.00000\n",
      "Positive       0.511053  0.51968  0.515331  12500.00000\n",
      "accuracy       0.511240  0.51124  0.511240      0.51124\n",
      "macro avg      0.511243  0.51124  0.511205  25000.00000\n",
      "weighted avg   0.511243  0.51124  0.511205  25000.00000\n",
      "\n",
      "Classification Report for BERT:\n",
      "              precision   recall  f1-score      support\n",
      "Negative       0.877048  0.89080  0.883870  12500.00000\n",
      "Positive       0.889060  0.87512  0.882035  12500.00000\n",
      "accuracy       0.882960  0.88296  0.882960      0.88296\n",
      "macro avg      0.883054  0.88296  0.882953  25000.00000\n",
      "weighted avg   0.883054  0.88296  0.882953  25000.00000\n",
      "\n",
      "Classification Report for LSTM-BERT:\n",
      "              precision   recall  f1-score      support\n",
      "Negative       0.912039  0.83696  0.872888  12500.00000\n",
      "Positive       0.849361  0.91928  0.882938  12500.00000\n",
      "accuracy       0.878120  0.87812  0.878120      0.87812\n",
      "macro avg      0.880700  0.87812  0.877913  25000.00000\n",
      "weighted avg   0.880700  0.87812  0.877913  25000.00000\n"
     ]
    }
   ],
   "source": [
    "# Initialize a dictionary to store classification reports for all models\n",
    "all_classification_reports = {}\n",
    "\n",
    "# Train and Compare Models\n",
    "results = {}\n",
    "for name, model, optimizer, train_loader, test_loader in [\n",
    "    ('LSTM', lstm_model, lstm_optimizer, train_loader_lstm, test_loader_lstm),\n",
    "    ('BERT', bert_model, bert_optimizer, train_loader_bert, test_loader_bert),\n",
    "    ('LSTM-BERT', bert_lstm_model, bert_lstm_optimizer, train_loader_bert, test_loader_bert)\n",
    "]:\n",
    "    print(f\"Training {name}...\")\n",
    "    acc, f1, cls_report = train_and_evaluate(model, train_loader, test_loader, optimizer, nn.CrossEntropyLoss(), device)\n",
    "    results[name] = {'Accuracy': acc, 'F1 Score': f1}\n",
    "    \n",
    "    # Store the classification report\n",
    "    all_classification_reports[name] = pd.DataFrame(cls_report).transpose()\n",
    "\n",
    "# Print all classification reports at the end\n",
    "for name, cls_report_df in all_classification_reports.items():\n",
    "    print(f\"\\nClassification Report for {name}:\")\n",
    "    print(cls_report_df)\n"
   ]
  },
  {
   "cell_type": "code",
   "execution_count": 22,
   "metadata": {},
   "outputs": [
    {
     "name": "stdout",
     "output_type": "stream",
     "text": [
      "\n",
      "Model Comparison Results:\n",
      "LSTM: Accuracy = 0.5112, F1 Score = 0.5112\n",
      "BERT: Accuracy = 0.8830, F1 Score = 0.8830\n",
      "LSTM-BERT: Accuracy = 0.8781, F1 Score = 0.8779\n"
     ]
    },
    {
     "data": {
      "image/png": "[encoded data removed]",
      "text/plain": [
       "<Figure size 1000x600 with 1 Axes>"
      ]
     },
     "metadata": {},
     "output_type": "display_data"
    }
   ],
   "source": [
    "# Print results\n",
    "print(\"\\nModel Comparison Results:\")\n",
    "for model_name, metrics in results.items():\n",
    "    print(f\"{model_name}: Accuracy = {metrics['Accuracy']:.4f}, F1 Score = {metrics['F1 Score']:.4f}\")\n",
    "\n",
    "# Plotting Model Comparison\n",
    "model_names = list(results.keys())\n",
    "accuracies = [metrics['Accuracy'] for metrics in results.values()]\n",
    "f1_scores = [metrics['F1 Score'] for metrics in results.values()]\n",
    "\n",
    "plt.figure(figsize=(10, 6))\n",
    "\n",
    "# Offsets for side-by-side bars\n",
    "x = range(len(results))\n",
    "bar_width = 0.4\n",
    "\n",
    "plt.bar([i - bar_width / 2 for i in x], accuracies, width=bar_width, color='mediumvioletred', label='Accuracy')\n",
    "plt.bar([i + bar_width / 2 for i in x], f1_scores, width=bar_width, color='indianred', label='F1 Score')\n",
    "\n",
    "# Add labels and title\n",
    "plt.xticks(x, model_names)\n",
    "plt.title('Model Comparison: LSTM vs BERT vs LSTM-BERT')\n",
    "plt.xlabel('Model')\n",
    "plt.ylabel('Score')\n",
    "plt.legend()\n",
    "plt.tight_layout()\n",
    "plt.show()"
   ]
  }
 ],
 "metadata": {
  "kernelspec": {
   "display_name": "Python 3",
   "language": "python",
   "name": "python3"
  },
  "language_info": {
   "codemirror_mode": {
    "name": "ipython",
    "version": 3
   },
   "file_extension": ".py",
   "mimetype": "text/x-python",
   "name": "python",
   "nbconvert_exporter": "python",
   "pygments_lexer": "ipython3",
   "version": "3.11.4"
  }
 },
 "nbformat": 4,
 "nbformat_minor": 2
}
